{
 "cells": [
  {
   "cell_type": "markdown",
   "metadata": {},
   "source": [
    "# Abstract Factory\n",
    "1. Intent:\n",
    "Is a creational design pattern that lets you produce families or related objects without specifying their concrete classes. "
   ]
  },
  {
   "cell_type": "code",
   "execution_count": null,
   "metadata": {},
   "outputs": [],
   "source": [
    "public interface IAbstractFactory\n",
    "{\n",
    "    IAbstractProductA CreateProductA();\n",
    "\n",
    "    IAbstractProductB CreateProductB();\n",
    "}\n",
    "\n",
    "class ConcreteFactory1 : IAbstractFactory\n",
    "{\n",
    "    public IAbstractProductA CreateProductA()\n",
    "    {\n",
    "        return new ConcreteProductA1();\n",
    "    }\n",
    "\n",
    "    public IAbstractProductB CreateProductB()\n",
    "    {\n",
    "        return new ConcreteProductB1();\n",
    "    }\n",
    "}\n",
    "\n",
    "class ConcreteFactory2 : IAbstractFactory\n",
    "{\n",
    "    public IAbstractProductA CreateProductA()\n",
    "    {\n",
    "        return new ConcreteProductA2();\n",
    "    }\n",
    "\n",
    "    public IAbstractProductB CreateProductB()\n",
    "    {\n",
    "        return new ConcreteProductB2();\n",
    "    }\n",
    "}\n",
    "\n",
    "public interface IAbstractProductA\n",
    "{\n",
    "    string UsefulFunctionA();\n",
    "}\n",
    "\n",
    "class ConcreteProductA1 : IAbstractProductA\n",
    "{\n",
    "    public string UsefulFunctionA()\n",
    "    {\n",
    "        return \"The result of the product A1.\";\n",
    "    }\n",
    "}\n",
    "\n",
    "class ConcreteProductA2 : IAbstractProductA\n",
    "{\n",
    "    public string UsefulFunctionA()\n",
    "    {\n",
    "        return \"The result of the product A2.\";\n",
    "    }\n",
    "}\n",
    "\n",
    "public interface IAbstractProductB\n",
    "{\n",
    "    string UsefulFunctionB();\n",
    "}\n",
    "\n",
    "public class ConcreteProductB1\n",
    "{\n",
    "    public string UsefulFunctionB()\n",
    "    {\n",
    "        return \"The result of the product B1.\";\n",
    "    }\n",
    "} "
   ]
  }
 ],
 "metadata": {
  "kernelspec": {
   "display_name": ".NET (C#)",
   "language": "C#",
   "name": ".net-csharp"
  },
  "language_info": {
   "name": "C#"
  }
 },
 "nbformat": 4,
 "nbformat_minor": 2
}
