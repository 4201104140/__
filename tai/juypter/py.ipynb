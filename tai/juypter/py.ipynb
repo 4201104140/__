{
 "cells": [
  {
   "cell_type": "code",
   "execution_count": 2,
   "metadata": {},
   "outputs": [],
   "source": [
    "class Participant:\n",
    "    def __init__(self, name):\n",
    "        self.name = name\n",
    "        self.point = 0\n",
    "        self.choice = \"\"\n",
    "    def choose(self):\n",
    "        self.choice = input(\"{name}, select rock, paper or scissor: \".format(name = self.name))\n",
    "        print(\"{name} selects {choice}\".format(name = self.name, choice = self.choice))\n",
    "    def toNumericalChoice(self):\n",
    "        switcher = {\n",
    "            \"rock\": 0,\n",
    "            \"paper\": 1,\n",
    "            \"scissor\": 2,\n",
    "        }\n",
    "        return switcher[self.choice]\n",
    "\n"
   ]
  },
  {
   "cell_type": "code",
   "execution_count": 3,
   "metadata": {},
   "outputs": [],
   "source": [
    "class GameRound:\n",
    "    def __init__(self, p1, p2):\n",
    "        p1.choose()\n",
    "        p2.choose()\n",
    "        self.rules = [\n",
    "            [0, -1, 1],\n",
    "            [1, 0, -1],\n",
    "            [-1, 1, 0]\n",
    "        ]\n",
    "\n",
    "        p1.choose()\n",
    "        p2.choose()\n",
    "        result = self.compareChoices(p1, p2)\n",
    "        print(\"Round resulted in a {result}\".format(result = self.getResultAsString(result) ))\n",
    "        \n",
    "    def compareChoices(self):\n",
    "        print(\"implement\")\n",
    "    def awardPoints(self):\n",
    "        print(\"implement\")\n",
    "    def compareChoices(self, p1, p2):\n",
    "        return self.rules[p1.toNumericalChoice(), p2.toNumericalChoice()]\n",
    "\n",
    "    def getResultAsString(self, result):\n",
    "        res = {\n",
    "            0: \"draw\",\n",
    "            1: \"win\",\n",
    "            2: \"loss\",\n",
    "        }\n",
    "        return res[result]"
   ]
  },
  {
   "cell_type": "code",
   "execution_count": 4,
   "metadata": {},
   "outputs": [],
   "source": [
    "class Game:\n",
    "    def __init__(self):\n",
    "        self.endGame = False\n",
    "        self.participant = Participant(\"Spock\")\n",
    "        self.secondParticipant = Participant(\"Kirk\")\n",
    "    def start(self):\n",
    "        game_round = GameRound(self.participant, self.secondParticipant)\n",
    "    def checkEndCondition(self):\n",
    "        print(\"checkEndCondition\")\n",
    "    def determineWinner(self):\n",
    "        print(\"implement\")"
   ]
  },
  {
   "cell_type": "code",
   "execution_count": null,
   "metadata": {},
   "outputs": [],
   "source": [
    "game = Game()\n",
    "game.start()"
   ]
  }
 ],
 "metadata": {
  "interpreter": {
   "hash": "13eb0af71620a846e484681143862ad0a4deab6cadfc353264e5c14897c11035"
  },
  "kernelspec": {
   "display_name": "Python 3.9.9 64-bit",
   "language": "python",
   "name": "python3"
  },
  "language_info": {
   "codemirror_mode": {
    "name": "ipython",
    "version": 3
   },
   "file_extension": ".py",
   "mimetype": "text/x-python",
   "name": "python",
   "nbconvert_exporter": "python",
   "pygments_lexer": "ipython3",
   "version": "3.9.9"
  },
  "orig_nbformat": 4
 },
 "nbformat": 4,
 "nbformat_minor": 2
}
