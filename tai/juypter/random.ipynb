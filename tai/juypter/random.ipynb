{
 "cells": [
  {
   "cell_type": "code",
   "execution_count": null,
   "metadata": {
    "dotnet_interactive": {
     "language": "csharp"
    }
   },
   "outputs": [
    {
     "data": {
      "text/html": [
       "<table><thead><tr><th><i>index</i></th><th>value</th></tr></thead><tbody><tr><td>0</td><td>ABCDEFGHIJKLMNOPQRSTUVWXYZ0123456789</td></tr><tr><td>1</td><td>ABCDEFGHIJKLMNOPQRSTUVWXYZ0123456789</td></tr><tr><td>2</td><td>ABCDEFGHIJKLMNOPQRSTUVWXYZ0123456789</td></tr><tr><td>3</td><td>ABCDEFGHIJKLMNOPQRSTUVWXYZ0123456789</td></tr><tr><td>4</td><td>ABCDEFGHIJKLMNOPQRSTUVWXYZ0123456789</td></tr></tbody></table>"
      ]
     },
     "metadata": {},
     "output_type": "display_data"
    }
   ],
   "source": [
    "private const int Length = 5;\n",
    "private const string ValidCharacters = \"ABCDEFGHIJKLMNOPQRSTUVWXYZ0123456789\";\n",
    "private readonly Random _randGenerator = new();\n",
    "\n",
    "var repeat = Enumerable.Repeat(ValidCharacters, Length);\n",
    "\n",
    "display(repeat);"
   ]
  },
  {
   "cell_type": "code",
   "execution_count": null,
   "metadata": {
    "dotnet_interactive": {
     "language": "csharp"
    }
   },
   "outputs": [
    {
     "data": {
      "text/html": [
       "<table><thead><tr><th><i>index</i></th><th>value</th></tr></thead><tbody><tr><td>0</td><td><div class=\"dni-plaintext\">3</div></td></tr><tr><td>1</td><td><div class=\"dni-plaintext\">P</div></td></tr><tr><td>2</td><td><div class=\"dni-plaintext\">E</div></td></tr><tr><td>3</td><td><div class=\"dni-plaintext\">Y</div></td></tr><tr><td>4</td><td><div class=\"dni-plaintext\">5</div></td></tr></tbody></table>"
      ]
     },
     "metadata": {},
     "output_type": "display_data"
    }
   ],
   "source": [
    "var selected = repeat.Select(s => s[_randGenerator.Next(s.Length)]);\n",
    "\n",
    "display(selected);"
   ]
  }
 ],
 "metadata": {
  "kernelspec": {
   "display_name": ".NET (C#)",
   "language": "C#",
   "name": ".net-csharp"
  },
  "language_info": {
   "file_extension": ".cs",
   "mimetype": "text/x-csharp",
   "name": "C#",
   "pygments_lexer": "csharp",
   "version": "9.0"
  },
  "orig_nbformat": 4
 },
 "nbformat": 4,
 "nbformat_minor": 2
}
