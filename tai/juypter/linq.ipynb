{
 "cells": [
  {
   "cell_type": "code",
   "execution_count": null,
   "metadata": {
    "dotnet_interactive": {
     "language": "csharp"
    }
   },
   "outputs": [
    {
     "data": {
      "text/plain": [
       "John"
      ]
     },
     "metadata": {},
     "output_type": "display_data"
    },
    {
     "data": {
      "text/plain": [
       "Leyla"
      ]
     },
     "metadata": {},
     "output_type": "display_data"
    },
    {
     "data": {
      "text/html": [
       "<table><thead><tr><th><i>index</i></th><th>value</th></tr></thead><tbody><tr><td>0</td><td>John</td></tr><tr><td>1</td><td>Leyla</td></tr></tbody></table>"
      ]
     },
     "metadata": {},
     "output_type": "display_data"
    },
    {
     "data": {
      "text/html": [
       "<table><thead><tr><th><i>index</i></th><th>value</th></tr></thead><tbody><tr><td>0</td><td>Leyla</td></tr><tr><td>1</td><td>David</td></tr><tr><td>2</td><td>Damain</td></tr></tbody></table>"
      ]
     },
     "metadata": {},
     "output_type": "display_data"
    },
    {
     "data": {
      "text/html": [
       "<table><thead><tr><th><i>index</i></th><th>value</th></tr></thead><tbody><tr><td>0</td><td><div class=\"dni-plaintext\">[ Nick, Mike ]</div></td></tr><tr><td>1</td><td><div class=\"dni-plaintext\">[ John, Leyla ]</div></td></tr><tr><td>2</td><td><div class=\"dni-plaintext\">[ David, Damain ]</div></td></tr></tbody></table>"
      ]
     },
     "metadata": {},
     "output_type": "display_data"
    }
   ],
   "source": [
    "var names = new []{ \"Nick\", \"Mike\", \"John\", \"Leyla\", \"David\", \"Damain\" };\n",
    "\n",
    "IEnumerable<IEnumerable<T>> ChunkBy<T>(IEnumerable<T> source, int chunkSize)\n",
    "{\n",
    "    return source\n",
    "        .Select((x, i) => new { Index = i, Value = x })\n",
    "        .GroupBy(x => x.Index / chunkSize)\n",
    "        .Select(x => x.Select(v => v.Value));\n",
    "}\n",
    "\n",
    "var chunked = ChunkBy(names, 2);\n",
    "\n",
    "display(names.ElementAt(2));\n",
    "display(names.ElementAt(^3));\n",
    "display(names.Take(2..4));\n",
    "display(names.Take(^3..));\n",
    "\n",
    "\n",
    "\n",
    "\n",
    "display(chunked);"
   ]
  },
  {
   "cell_type": "code",
   "execution_count": null,
   "metadata": {
    "dotnet_interactive": {
     "language": "csharp"
    }
   },
   "outputs": [
    {
     "data": {
      "text/html": [
       "<table><thead><tr><th><i>index</i></th><th>Index</th><th>Value</th></tr></thead><tbody><tr><td>0</td><td><div class=\"dni-plaintext\">0</div></td><td>Nick</td></tr><tr><td>1</td><td><div class=\"dni-plaintext\">1</div></td><td>Mike</td></tr><tr><td>2</td><td><div class=\"dni-plaintext\">2</div></td><td>John</td></tr><tr><td>3</td><td><div class=\"dni-plaintext\">3</div></td><td>Leyla</td></tr><tr><td>4</td><td><div class=\"dni-plaintext\">4</div></td><td>David</td></tr><tr><td>5</td><td><div class=\"dni-plaintext\">5</div></td><td>Damain</td></tr></tbody></table>"
      ]
     },
     "metadata": {},
     "output_type": "display_data"
    }
   ],
   "source": [
    "display(names.Select((x, i) => new { Index = i, Value = x }));"
   ]
  },
  {
   "cell_type": "code",
   "execution_count": null,
   "metadata": {
    "dotnet_interactive": {
     "language": "csharp"
    }
   },
   "outputs": [
    {
     "data": {
      "text/html": [
       "<table><thead><tr><th><i>index</i></th><th>value</th></tr></thead><tbody><tr><td>0</td><td><div class=\"dni-plaintext\">[ Nick, Mike, John ]</div></td></tr><tr><td>1</td><td><div class=\"dni-plaintext\">[ Leyla, David, Damain ]</div></td></tr></tbody></table>"
      ]
     },
     "metadata": {},
     "output_type": "display_data"
    }
   ],
   "source": [
    "display(names.Chunk(3));"
   ]
  },
  {
   "cell_type": "code",
   "execution_count": null,
   "metadata": {
    "dotnet_interactive": {
     "language": "csharp"
    }
   },
   "outputs": [
    {
     "ename": "Error",
     "evalue": "(5,30): error CS1929: 'IEnumerable<string>' does not contain a definition for 'Concat' and the best extension method overload 'Queryable.Concat<int>(IQueryable<int>, IEnumerable<int>)' requires a receiver of type 'IQueryable<int>'",
     "output_type": "error",
     "traceback": [
      "(5,30): error CS1929: 'IEnumerable<string>' does not contain a definition for 'Concat' and the best extension method overload 'Queryable.Concat<int>(IQueryable<int>, IEnumerable<int>)' requires a receiver of type 'IQueryable<int>'"
     ]
    }
   ],
   "source": [
    "var firstSet = new[] { \"Nick Chapsas\" };\n",
    "var secondSet = new[] { \"Peter Chapsas\" };\n",
    "var thirdSet = new[] { \"Maria Chapsas\" };\n",
    "\n",
    "IEnumerable<string> names1 = firstSet.Concat(secondSet).Concat(thirdSet);\n",
    "\n",
    "display(names1);\n"
   ]
  },
  {
   "cell_type": "code",
   "execution_count": null,
   "metadata": {
    "dotnet_interactive": {
     "language": "csharp"
    }
   },
   "outputs": [
    {
     "data": {
      "text/html": [
       "<table><thead><tr><th><i>index</i></th><th>Item1</th><th>Item2</th></tr></thead><tbody><tr><td>0</td><td>Nick</td><td><div class=\"dni-plaintext\">28</div></td></tr><tr><td>1</td><td>Mike</td><td><div class=\"dni-plaintext\">22</div></td></tr><tr><td>2</td><td>John</td><td><div class=\"dni-plaintext\">25</div></td></tr></tbody></table>"
      ]
     },
     "metadata": {},
     "output_type": "display_data"
    }
   ],
   "source": [
    "var names2 = new[] { \"Nick Chapsas \", \"Peter Chapsas\", \"Maria Chapsas\" };\n",
    "var ages = new[] { 28, 22, 25 };\n",
    "\n",
    "display(names.Zip(ages));"
   ]
  },
  {
   "cell_type": "code",
   "execution_count": null,
   "metadata": {
    "dotnet_interactive": {
     "language": "csharp"
    }
   },
   "outputs": [
    {
     "data": {
      "text/html": [
       "<table><thead><tr><th>Name</th><th>Age</th></tr></thead><tbody><tr><td><div class=\"dni-plaintext\">Nick Chapsas</div></td><td><div class=\"dni-plaintext\">28</div></td></tr></tbody></table>"
      ]
     },
     "metadata": {},
     "output_type": "display_data"
    },
    {
     "data": {
      "text/html": [
       "<table><thead><tr><th>Name</th><th>Age</th></tr></thead><tbody><tr><td><div class=\"dni-plaintext\">Nick Chapsas</div></td><td><div class=\"dni-plaintext\">30</div></td></tr></tbody></table>"
      ]
     },
     "metadata": {},
     "output_type": "display_data"
    },
    {
     "data": {
      "text/html": [
       "<table><thead><tr><th>Name</th><th>Age</th></tr></thead><tbody><tr><td><div class=\"dni-plaintext\">Nick Chapsas</div></td><td><div class=\"dni-plaintext\">28</div></td></tr></tbody></table>"
      ]
     },
     "metadata": {},
     "output_type": "display_data"
    },
    {
     "data": {
      "text/html": [
       "<table><thead><tr><th>Name</th><th>Age</th></tr></thead><tbody><tr><td><div class=\"dni-plaintext\">Nick Chapsas</div></td><td><div class=\"dni-plaintext\">30</div></td></tr></tbody></table>"
      ]
     },
     "metadata": {},
     "output_type": "display_data"
    }
   ],
   "source": [
    "record FamilyMember( string Name, int Age);\n",
    "\n",
    "var family = new[]\n",
    "{\n",
    "    new FamilyMember(\"Nick Chapsas\", 28),\n",
    "    new FamilyMember(\"Nick Chapsas\", 29),\n",
    "    new FamilyMember(\"Nick Chapsas\", 30)\n",
    "};\n",
    "\n",
    "var youngest = family.OrderBy(x => x.Age).FirstOrDefault();\n",
    "var oldest = family.OrderByDescending(x => x.Age).FirstOrDefault();\n",
    "display(youngest);\n",
    "display(oldest);\n",
    "\n",
    "display(family.MinBy(x => x.Age));\n",
    "display(family.MaxBy(x => x.Age));"
   ]
  }
 ],
 "metadata": {
  "kernelspec": {
   "display_name": ".NET (C#)",
   "language": "C#",
   "name": ".net-csharp"
  },
  "language_info": {
   "name": "C#"
  }
 },
 "nbformat": 4,
 "nbformat_minor": 2
}
