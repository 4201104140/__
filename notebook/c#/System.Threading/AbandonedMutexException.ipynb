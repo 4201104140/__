{
 "cells": [
  {
   "cell_type": "code",
   "execution_count": null,
   "metadata": {
    "dotnet_interactive": {
     "language": "csharp"
    }
   },
   "outputs": [
    {
     "name": "stdout",
     "output_type": "stream",
     "text": [
      "Thread exits without releasing the mutexes.\r\n",
      "Exception on return from WaitOne.\r\n",
      "\tMessage: The wait completed due to an abandoned mutex.\r\n"
     ]
    }
   ],
   "source": [
    "using System;\n",
    "using System.Threading;\n",
    "\n",
    "private static ManualResetEvent _dummy = new ManualResetEvent(false);\n",
    "\n",
    "private static Mutex _orphan1 = new Mutex();\n",
    "private static Mutex _orphan2 = new Mutex();\n",
    "private static Mutex _orphan3 = new Mutex();\n",
    "private static Mutex _orphan4 = new Mutex();\n",
    "private static Mutex _orphan5 = new Mutex();\n",
    "\n",
    "Thread t= new Thread(new ThreadStart(AbandonMutex));\n",
    "\n",
    "t.Start();\n",
    "\n",
    "t.Join();\n",
    "\n",
    "try\n",
    "{\n",
    "    _orphan1.WaitOne();\n",
    "    Console.WriteLine(\"WaitOne succeeded.\");\n",
    "}\n",
    "catch(AbandonedMutexException ex)\n",
    "{\n",
    "    Console.WriteLine(\"Exception on return from WaitOne.\" +\n",
    "        \"\\r\\n\\tMessage: {0}\", ex.Message);\n",
    "}\n",
    "finally\n",
    "{\n",
    "    // Whether or not the exception was thrown, the current\n",
    "    // thread owns the mutex, and must release it.\n",
    "    //\n",
    "    _orphan1.ReleaseMutex();\n",
    "}\n",
    "\n",
    "WaitHandle[] waitFor = {_dummy, _orphan2, _orphan3};\n",
    "\n",
    "\n",
    "[MTAThread]\n",
    "public static void AbandonMutex()\n",
    "{\n",
    "    _orphan1.WaitOne();\n",
    "    Console.WriteLine(\"Thread exits without releasing the mutexes.\");\n",
    "}"
   ]
  }
 ],
 "metadata": {
  "kernelspec": {
   "display_name": ".NET (C#)",
   "language": "C#",
   "name": ".net-csharp"
  },
  "language_info": {
   "name": "C#"
  }
 },
 "nbformat": 4,
 "nbformat_minor": 2
}
