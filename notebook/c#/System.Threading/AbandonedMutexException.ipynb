{
 "metadata": {
  "kernelspec": {
   "display_name": ".NET (C#)",
   "language": "C#",
   "name": ".net-csharp"
  },
  "language_info": {
   "name": "C#"
  }
 },
 "cells": [
  {
   "cell_type": "code",
   "execution_count": null,
   "source": [
    "using System;\r\n",
    "using System.Threading;\r\n",
    "\r\n",
    "private static ManualResetEvent _dummy = new ManualResetEvent(false);\r\n",
    "\r\n",
    "private static Mutex _orphan1 = new Mutex();\r\n",
    "private static Mutex _orphan2 = new Mutex();\r\n",
    "private static Mutex _orphan3 = new Mutex();\r\n",
    "private static Mutex _orphan4 = new Mutex();\r\n",
    "private static Mutex _orphan5 = new Mutex();\r\n",
    "\r\n",
    "Thread t= new Thread(new ThreadStart(AbandonMutex));\r\n",
    "\r\n",
    "t.Start();\r\n",
    "\r\n",
    "t.Join();\r\n",
    "\r\n",
    "try\r\n",
    "{\r\n",
    "    _orphan1.WaitOne();\r\n",
    "    Console.WriteLine(\"WaitOne succeeded.\");\r\n",
    "}\r\n",
    "catch(AbandonedMutexException ex)\r\n",
    "{\r\n",
    "    Console.WriteLine(\"Exception on return from WaitOne.\" +\r\n",
    "        \"\\r\\n\\tMessage: {0}\", ex.Message);\r\n",
    "}\r\n",
    "finally\r\n",
    "{\r\n",
    "    // Whether or not the exception was thrown, the current\r\n",
    "    // thread owns the mutex, and must release it.\r\n",
    "    //\r\n",
    "    _orphan1.ReleaseMutex();\r\n",
    "}\r\n",
    "\r\n",
    "WaitHandle[] waitFor = {_dummy, _orphan2, _orphan3};\r\n",
    "\r\n",
    "\r\n",
    "[MTAThread]\r\n",
    "public static void AbandonMutex()\r\n",
    "{\r\n",
    "    _orphan1.WaitOne();\r\n",
    "    Console.WriteLine(\"Thread exits without releasing the mutexes.\");\r\n",
    "}"
   ],
   "outputs": [
    {
     "output_type": "stream",
     "name": "stdout",
     "text": [
      "Thread exits without releasing the mutexes.\r\n",
      "Exception on return from WaitOne.\r\n",
      "\tMessage: The wait completed due to an abandoned mutex.\r\n"
     ]
    }
   ],
   "metadata": {
    "dotnet_interactive": {
     "language": "csharp"
    }
   }
  }
 ],
 "nbformat": 4,
 "nbformat_minor": 2
}